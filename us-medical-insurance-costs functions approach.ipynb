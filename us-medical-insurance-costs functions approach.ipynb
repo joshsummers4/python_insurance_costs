{
 "cells": [
  {
   "cell_type": "markdown",
   "metadata": {},
   "source": [
    "# U.S. Medical Insurance Costs - Function Approach"
   ]
  },
  {
   "cell_type": "markdown",
   "metadata": {},
   "source": [
    "Aims of the project\n",
    "1. Find out the average age of the patients in the dataset.\n",
    "2. Analyze where a majority of the individuals are from.\n",
    "3. Look at the different costs between smokers vs. non-smokers.\n",
    "4. Figure out what the average age is for someone who has at least one child in this dataset."
   ]
  },
  {
   "cell_type": "code",
   "execution_count": 14,
   "metadata": {},
   "outputs": [
    {
     "name": "stdout",
     "output_type": "stream",
     "text": [
      "{'age': '19', 'sex': 'female', 'bmi': '27.9', 'children': '0', 'smoker': 'yes', 'region': 'southwest', 'charges': '16884.924'}\n"
     ]
    }
   ],
   "source": [
    "#Import in the insurance.csv data file\n",
    "import csv\n",
    "\n",
    "insurance_dict = {}\n",
    "with open('insurance.csv',newline='') as insurance_csv:\n",
    "    #headers = insurance_csv.readline()\n",
    "    insurance_lines = csv.DictReader(insurance_csv)\n",
    "    patient = 1\n",
    "    for line in insurance_lines:\n",
    "        insurance_dict[patient] = line\n",
    "        patient +=1\n",
    "#print(headers)\n",
    "print(insurance_dict[1])\n",
    "#insurance_dict is the dataset and the file is now closed so now corruption of the data could occur\n"
   ]
  },
  {
   "cell_type": "markdown",
   "metadata": {},
   "source": [
    "Find the average age of the patinets in the dataset"
   ]
  },
  {
   "cell_type": "code",
   "execution_count": 32,
   "metadata": {},
   "outputs": [
    {
     "name": "stdout",
     "output_type": "stream",
     "text": [
      "39.20702541106129\n",
      "The average age of the patients in the dataset is 39.2 years old.\n"
     ]
    }
   ],
   "source": [
    "#Find average age of patients in the dataset\n",
    "def average_age(dict_set):\n",
    "    dict_values = dict_set.values()\n",
    "    age = 0\n",
    "    num_of_patients = 0\n",
    "    for patient in dict_values:\n",
    "        patient_age = patient[\"age\"]\n",
    "        age += int(patient_age)\n",
    "        num_of_patients += 1\n",
    "    return age/num_of_patients\n",
    "\n",
    "\n",
    "dataset_average_ages = average_age(insurance_dict)\n",
    "print(dataset_average_ages)\n",
    "print(\"The average age of the patients in the dataset is \" + str(round(dataset_average_ages, 1)) + \" years old.\")"
   ]
  },
  {
   "cell_type": "markdown",
   "metadata": {},
   "source": [
    "Identify the location of the patients and where the most come from"
   ]
  },
  {
   "cell_type": "code",
   "execution_count": 37,
   "metadata": {},
   "outputs": [
    {
     "name": "stdout",
     "output_type": "stream",
     "text": [
      "{'southwest': 325, 'southeast': 364, 'northwest': 325, 'northeast': 324}\n",
      "The region with the most patients is southeast with a total of 364 patients\n"
     ]
    }
   ],
   "source": [
    "#produce an array of the totals for each location and identify the largest area\n",
    "\n",
    "#sub function to calculate the area with the largest number of patients \n",
    "def largest_area(locations):\n",
    "    largest = \"\"\n",
    "    count = 0\n",
    "    for area in locations:\n",
    "        if locations[area] > count:\n",
    "            count = locations[area]\n",
    "            largest = area\n",
    "    return largest, count\n",
    "\n",
    "def location(insurance_dictionary):\n",
    "    patient_values = insurance_dictionary.values()\n",
    "    areas = []\n",
    "    for patient in patient_values:\n",
    "        current_area = patient[\"region\"]\n",
    "        areas.append(current_area)\n",
    "    # create dictionary of areas to store the number of patients in each area\n",
    "    areas_with_count = {}\n",
    "    for area in areas:\n",
    "        if areas_with_count.get(area) == None:\n",
    "            count = areas.count(area)\n",
    "            areas_with_count[area] = count\n",
    "    #identify largest area\n",
    "    biggest_location, num_of_patients = largest_area(areas_with_count)\n",
    "    return areas_with_count, biggest_location, num_of_patients\n",
    "\n",
    "location_with_count, biggest_location, location_number = location(insurance_dict)\n",
    "print(location_with_count)\n",
    "print(\"The region with the most patients is \" + biggest_location + \" with a total of \" + str(location_number) + \" patients\" )\n"
   ]
  },
  {
   "cell_type": "markdown",
   "metadata": {},
   "source": [
    "Difference in cost between smokers and non-smokers"
   ]
  },
  {
   "cell_type": "code",
   "execution_count": 44,
   "metadata": {},
   "outputs": [
    {
     "name": "stdout",
     "output_type": "stream",
     "text": [
      "32050.23183153285\n",
      "8434.268297856199\n",
      "The cost of smoking is on average $23615.96 extra in insurance cost.\n"
     ]
    }
   ],
   "source": [
    "#function to calculate the difference in average cost between smokers and non smokers\n",
    "\n",
    "def cost_of_smoking(insurance):\n",
    "    insurance_values = insurance.values()\n",
    "    #total costs for smokers and non smokers\n",
    "    smokers_total = 0\n",
    "    number_of_smokers = 0\n",
    "    non_smokers_total = 0\n",
    "    number_of_non_smokers = 0\n",
    "    for patient in insurance_values:\n",
    "        current_cost = float(patient[\"charges\"])\n",
    "        if patient[\"smoker\"] == 'yes':\n",
    "            smokers_total += current_cost\n",
    "            number_of_smokers += 1\n",
    "        elif patient[\"smoker\"] == 'no':\n",
    "            non_smokers_total += current_cost\n",
    "            number_of_non_smokers += 1\n",
    "    average_cost_smokers = smokers_total/number_of_smokers\n",
    "    print(average_cost_smokers)\n",
    "    average_cost_non_smokers = non_smokers_total/number_of_non_smokers\n",
    "    print(average_cost_non_smokers)\n",
    "    difference_in_cost = average_cost_smokers - average_cost_non_smokers\n",
    "    return round(difference_in_cost,2)\n",
    "\n",
    "difference = cost_of_smoking(insurance_dict)\n",
    "print(\"The cost of smoking is on average $\" + str(difference) + \" extra in insurance cost.\")"
   ]
  },
  {
   "cell_type": "markdown",
   "metadata": {},
   "source": [
    "Average age of parents (someone with at least one child)"
   ]
  },
  {
   "cell_type": "code",
   "execution_count": 46,
   "metadata": {},
   "outputs": [
    {
     "name": "stdout",
     "output_type": "stream",
     "text": [
      "The average age of parents in the dataset is 39.8\n"
     ]
    }
   ],
   "source": [
    "#Calculate the average age for a parent\n",
    "def parental_age(insurance):\n",
    "    insurance_values = insurance.values()\n",
    "    total_age = 0\n",
    "    number_of_parents = 0\n",
    "    for patient in insurance_values:\n",
    "        current_age = int(patient[\"age\"])\n",
    "        children = int(patient[\"children\"])\n",
    "        if children > 0:\n",
    "            total_age += current_age\n",
    "            number_of_parents +=1\n",
    "    average_age = total_age/number_of_parents\n",
    "    return round(average_age, 1)\n",
    "\n",
    "average_parental_age = parental_age(insurance_dict)\n",
    "print(\"The average age of parents in the dataset is \" + str(average_parental_age))\n",
    "        "
   ]
  }
 ],
 "metadata": {
  "kernelspec": {
   "display_name": "Python 3 (ipykernel)",
   "language": "python",
   "name": "python3"
  },
  "language_info": {
   "codemirror_mode": {
    "name": "ipython",
    "version": 3
   },
   "file_extension": ".py",
   "mimetype": "text/x-python",
   "name": "python",
   "nbconvert_exporter": "python",
   "pygments_lexer": "ipython3",
   "version": "3.9.7"
  }
 },
 "nbformat": 4,
 "nbformat_minor": 4
}
